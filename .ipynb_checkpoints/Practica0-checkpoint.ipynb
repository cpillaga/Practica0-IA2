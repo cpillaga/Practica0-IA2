{
 "cells": [
  {
   "cell_type": "markdown",
   "metadata": {},
   "source": [
    "<center><h1>Práctica 0</h1></center>\n",
    "\n",
    "### Nombre: Christian Pillaga S."
   ]
  },
  {
   "cell_type": "code",
   "execution_count": 1,
   "metadata": {},
   "outputs": [],
   "source": [
    "from reportlab.lib.utils import ImageReader\n",
    "from reportlab.pdfgen import canvas\n",
    "from reportlab.lib.pagesizes import A4\n",
    "from time import sleep\n",
    "import os\n",
    "import time as time\n",
    "import pylab as pl\n",
    "import numpy as np"
   ]
  },
  {
   "cell_type": "code",
   "execution_count": 2,
   "metadata": {},
   "outputs": [],
   "source": [
    "inicioTime = time.time()\n",
    "\n",
    "sunflowers = os.listdir('sunflower/')\n",
    "\n",
    "os.system('mkdir -p sunflowerGris')\n",
    "os.system('mkdir histogramas')\n",
    "os.system('chmod 777 histogramas')\n",
    "\n",
    "sunflowersGris = os.listdir('sunflowerGris/')"
   ]
  },
  {
   "cell_type": "code",
   "execution_count": null,
   "metadata": {},
   "outputs": [],
   "source": [
    "grisTime = 0\n",
    "histograma3Time = 0\n",
    "histograma1Time = 0\n",
    "\n",
    "dicC"
   ]
  }
 ],
 "metadata": {
  "kernelspec": {
   "display_name": "Python 3",
   "language": "python",
   "name": "python3"
  },
  "language_info": {
   "codemirror_mode": {
    "name": "ipython",
    "version": 3
   },
   "file_extension": ".py",
   "mimetype": "text/x-python",
   "name": "python",
   "nbconvert_exporter": "python",
   "pygments_lexer": "ipython3",
   "version": "3.7.4"
  }
 },
 "nbformat": 4,
 "nbformat_minor": 4
}
